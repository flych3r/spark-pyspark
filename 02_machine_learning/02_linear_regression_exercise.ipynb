{
 "cells": [
  {
   "cell_type": "markdown",
   "metadata": {},
   "source": [
    "# Linear Regression Consulting Project"
   ]
  },
  {
   "cell_type": "markdown",
   "metadata": {
    "collapsed": true
   },
   "source": [
    "Congratulations! You've been contracted by Hyundai Heavy Industries to help them build a predictive model for some ships. [Hyundai Heavy Industries](http://www.hyundai.eu/en) is one of the world's largest ship manufacturing companies and builds cruise liners.\n",
    "\n",
    "You've been flown to their headquarters in Ulsan, South Korea to help them give accurate estimates of how many crew members a ship will require.\n",
    "\n",
    "They are currently building new ships for some customers and want you to create a model and use it to predict how many crew members the ships will need.\n",
    "\n",
    "Here is what the data looks like so far:\n",
    "\n",
    "    Description: Measurements of ship size, capacity, crew, and age for 158 cruise\n",
    "    ships.\n",
    "\n",
    "\n",
    "    Variables/Columns\n",
    "    Ship Name     1-20\n",
    "    Cruise Line   21-40\n",
    "    Age (as of 2013)   46-48\n",
    "    Tonnage (1000s of tons)   50-56\n",
    "    passengers (100s)   58-64\n",
    "    Length (100s of feet)  66-72\n",
    "    Cabins  (100s)   74-80\n",
    "    Passenger Density   82-88\n",
    "    Crew  (100s)   90-96\n",
    "\n",
    "It is saved in a csv file for you called `cruise_ship_info.csv`. Your job is to create a regression model that will help predict how many crew members will be needed for future ships. The client also mentioned that they have found that particular cruise lines will differ in acceptable crew counts, so it is most likely an important feature to include in your analysis!\n",
    "\n",
    "Once you've created the model and tested it for a quick check on how well you can expect it to perform, make sure you take a look at why it performs so well!"
   ]
  },
  {
   "cell_type": "code",
   "execution_count": 1,
   "metadata": {},
   "outputs": [],
   "source": [
    "from pyspark.sql import SparkSession"
   ]
  },
  {
   "cell_type": "code",
   "execution_count": 2,
   "metadata": {},
   "outputs": [],
   "source": [
    "spark = SparkSession.builder.appName('lr-exercise').getOrCreate()"
   ]
  },
  {
   "cell_type": "code",
   "execution_count": 3,
   "metadata": {},
   "outputs": [],
   "source": [
    "data = spark.read.csv('../data/cruise_ship_info.csv', inferSchema=True, header=True)"
   ]
  },
  {
   "cell_type": "code",
   "execution_count": 4,
   "metadata": {},
   "outputs": [
    {
     "name": "stdout",
     "output_type": "stream",
     "text": [
      "root\n",
      " |-- Ship_name: string (nullable = true)\n",
      " |-- Cruise_line: string (nullable = true)\n",
      " |-- Age: integer (nullable = true)\n",
      " |-- Tonnage: double (nullable = true)\n",
      " |-- Passengers: integer (nullable = true)\n",
      " |-- Length: double (nullable = true)\n",
      " |-- Cabins: integer (nullable = true)\n",
      " |-- Passenger_density: double (nullable = true)\n",
      " |-- Crew: integer (nullable = true)\n",
      "\n"
     ]
    }
   ],
   "source": [
    "data.printSchema()"
   ]
  },
  {
   "cell_type": "code",
   "execution_count": 5,
   "metadata": {},
   "outputs": [
    {
     "name": "stdout",
     "output_type": "stream",
     "text": [
      "+-------+---------+-----------+------------------+------------------+-----------------+-----------------+-----------------+-----------------+------------------+\n",
      "|summary|Ship_name|Cruise_line|               Age|           Tonnage|       Passengers|           Length|           Cabins|Passenger_density|              Crew|\n",
      "+-------+---------+-----------+------------------+------------------+-----------------+-----------------+-----------------+-----------------+------------------+\n",
      "|  count|      158|        158|               158|               158|              158|              158|              158|              158|               158|\n",
      "|   mean| Infinity|       null|16.689873417721518| 71.28467088607599| 18.9873417721519|8.130632911392404|9.354430379746836|39.90094936708861| 8.379746835443038|\n",
      "| stddev|     null|       null| 7.615691058751415|37.229540025907866|9.753645303704317|1.793473548054825|4.503467806583174| 8.63921711391542|3.5915817974968824|\n",
      "|    min|Adventure|    Azamara|                 5|             2.329|                1|             2.79|                1|             17.7|                 1|\n",
      "|    max|Zuiderdam|   Windstar|                49|             220.0|               55|            11.82|               28|            71.43|                22|\n",
      "+-------+---------+-----------+------------------+------------------+-----------------+-----------------+-----------------+-----------------+------------------+\n",
      "\n"
     ]
    }
   ],
   "source": [
    "data.describe().show()"
   ]
  },
  {
   "cell_type": "code",
   "execution_count": 6,
   "metadata": {},
   "outputs": [
    {
     "name": "stdout",
     "output_type": "stream",
     "text": [
      "+-----------+-----------+---+-------+----------+------+------+-----------------+----+\n",
      "|  Ship_name|Cruise_line|Age|Tonnage|Passengers|Length|Cabins|Passenger_density|Crew|\n",
      "+-----------+-----------+---+-------+----------+------+------+-----------------+----+\n",
      "|    Journey|    Azamara|  7| 30.277|         7|  5.94|     4|            42.64|   4|\n",
      "|      Quest|    Azamara|  7| 30.277|         7|  5.94|     4|            42.64|   4|\n",
      "|Celebration|   Carnival| 27| 47.262|        15|  7.22|     8|             31.8|   7|\n",
      "|   Conquest|   Carnival| 12|  110.0|        30|  9.53|    15|            36.99|  20|\n",
      "|    Destiny|   Carnival| 18|101.353|        27|  8.92|    14|            38.36|  11|\n",
      "+-----------+-----------+---+-------+----------+------+------+-----------------+----+\n",
      "only showing top 5 rows\n",
      "\n"
     ]
    }
   ],
   "source": [
    "data.show(5)"
   ]
  },
  {
   "cell_type": "code",
   "execution_count": 7,
   "metadata": {},
   "outputs": [
    {
     "name": "stdout",
     "output_type": "stream",
     "text": [
      "+-----------------+-----+\n",
      "|      Cruise_line|count|\n",
      "+-----------------+-----+\n",
      "|            Costa|   11|\n",
      "|              P&O|    6|\n",
      "|           Cunard|    3|\n",
      "|Regent_Seven_Seas|    5|\n",
      "|              MSC|    8|\n",
      "|         Carnival|   22|\n",
      "|          Crystal|    2|\n",
      "|           Orient|    1|\n",
      "|         Princess|   17|\n",
      "|        Silversea|    4|\n",
      "|         Seabourn|    3|\n",
      "| Holland_American|   14|\n",
      "|         Windstar|    3|\n",
      "|           Disney|    2|\n",
      "|        Norwegian|   13|\n",
      "|          Oceania|    3|\n",
      "|          Azamara|    2|\n",
      "|        Celebrity|   10|\n",
      "|             Star|    6|\n",
      "|  Royal_Caribbean|   23|\n",
      "+-----------------+-----+\n",
      "\n"
     ]
    }
   ],
   "source": [
    "data.groupBy('Cruise_line').count().show()"
   ]
  },
  {
   "cell_type": "code",
   "execution_count": 8,
   "metadata": {},
   "outputs": [],
   "source": [
    "train_data, test_data = data.randomSplit([.7, .3], seed=True)"
   ]
  },
  {
   "cell_type": "code",
   "execution_count": 9,
   "metadata": {},
   "outputs": [],
   "source": [
    "from pyspark.ml.feature import StandardScaler, VectorAssembler, StringIndexer"
   ]
  },
  {
   "cell_type": "code",
   "execution_count": 10,
   "metadata": {},
   "outputs": [
    {
     "name": "stdout",
     "output_type": "stream",
     "text": [
      "+---------+----------------+---+-------+----------+------+------+-----------------+----+-------------------+\n",
      "|Ship_name|     Cruise_line|Age|Tonnage|Passengers|Length|Cabins|Passenger_density|Crew|Cruise_line_indexed|\n",
      "+---------+----------------+---+-------+----------+------+------+-----------------+----+-------------------+\n",
      "|Adventure| Royal_Caribbean| 13|  138.0|        32|  10.2|    16|            44.32|  12|                1.0|\n",
      "|  Allegra|           Costa| 22|  28.43|         9|  6.16|     5|            35.19|   5|                4.0|\n",
      "|Amsterdam|Holland_American| 14|   61.0|        14|   7.8|     7|             44.2|   7|                3.0|\n",
      "|  Arcadia|             P&O| 10|   85.0|        20|  9.35|    10|            43.19|   9|                8.0|\n",
      "|  Artemis|             P&O| 30|   45.0|        12|  7.54|     6|             38.2|   6|                8.0|\n",
      "+---------+----------------+---+-------+----------+------+------+-----------------+----+-------------------+\n",
      "only showing top 5 rows\n",
      "\n"
     ]
    }
   ],
   "source": [
    "string_indexer = StringIndexer(inputCol='Cruise_line', outputCol='Cruise_line_indexed', stringOrderType='frequencyDesc')\n",
    "si_model = string_indexer.fit(train_data)\n",
    "train_data_indexed = si_model.transform(train_data)\n",
    "test_data_indexed = si_model.transform(test_data)\n",
    "train_data_indexed.show(5)"
   ]
  },
  {
   "cell_type": "code",
   "execution_count": 11,
   "metadata": {},
   "outputs": [
    {
     "name": "stdout",
     "output_type": "stream",
     "text": [
      "+---------+----------------+---+-------+----------+------+------+-----------------+----+-------------------+--------------------+\n",
      "|Ship_name|     Cruise_line|Age|Tonnage|Passengers|Length|Cabins|Passenger_density|Crew|Cruise_line_indexed|            features|\n",
      "+---------+----------------+---+-------+----------+------+------+-----------------+----+-------------------+--------------------+\n",
      "|Adventure| Royal_Caribbean| 13|  138.0|        32|  10.2|    16|            44.32|  12|                1.0|[1.0,13.0,138.0,3...|\n",
      "|  Allegra|           Costa| 22|  28.43|         9|  6.16|     5|            35.19|   5|                4.0|[4.0,22.0,28.43,9...|\n",
      "|Amsterdam|Holland_American| 14|   61.0|        14|   7.8|     7|             44.2|   7|                3.0|[3.0,14.0,61.0,14...|\n",
      "|  Arcadia|             P&O| 10|   85.0|        20|  9.35|    10|            43.19|   9|                8.0|[8.0,10.0,85.0,20...|\n",
      "|  Artemis|             P&O| 30|   45.0|        12|  7.54|     6|             38.2|   6|                8.0|[8.0,30.0,45.0,12...|\n",
      "+---------+----------------+---+-------+----------+------+------+-----------------+----+-------------------+--------------------+\n",
      "only showing top 5 rows\n",
      "\n"
     ]
    }
   ],
   "source": [
    "assembler = VectorAssembler(\n",
    "    inputCols=['Cruise_line_indexed', 'Age','Tonnage','Passengers','Length','Cabins','Passenger_density'],\n",
    "    outputCol='features'\n",
    ")\n",
    "train_data_assembled = assembler.transform(train_data_indexed)\n",
    "test_data_assembled = assembler.transform(test_data_indexed)\n",
    "train_data_assembled.show(5)"
   ]
  },
  {
   "cell_type": "code",
   "execution_count": 12,
   "metadata": {},
   "outputs": [
    {
     "name": "stdout",
     "output_type": "stream",
     "text": [
      "+---------+----------------+---+-------+----------+------+------+-----------------+----+-------------------+--------------------+--------------------+\n",
      "|Ship_name|     Cruise_line|Age|Tonnage|Passengers|Length|Cabins|Passenger_density|Crew|Cruise_line_indexed|            features|     features_scaled|\n",
      "+---------+----------------+---+-------+----------+------+------+-----------------+----+-------------------+--------------------+--------------------+\n",
      "|Adventure| Royal_Caribbean| 13|  138.0|        32|  10.2|    16|            44.32|  12|                1.0|[1.0,13.0,138.0,3...|[0.20998400116536...|\n",
      "|  Allegra|           Costa| 22|  28.43|         9|  6.16|     5|            35.19|   5|                4.0|[4.0,22.0,28.43,9...|[0.83993600466144...|\n",
      "|Amsterdam|Holland_American| 14|   61.0|        14|   7.8|     7|             44.2|   7|                3.0|[3.0,14.0,61.0,14...|[0.62995200349608...|\n",
      "|  Arcadia|             P&O| 10|   85.0|        20|  9.35|    10|            43.19|   9|                8.0|[8.0,10.0,85.0,20...|[1.67987200932288...|\n",
      "|  Artemis|             P&O| 30|   45.0|        12|  7.54|     6|             38.2|   6|                8.0|[8.0,30.0,45.0,12...|[1.67987200932288...|\n",
      "+---------+----------------+---+-------+----------+------+------+-----------------+----+-------------------+--------------------+--------------------+\n",
      "only showing top 5 rows\n",
      "\n"
     ]
    }
   ],
   "source": [
    "standard_scaler = StandardScaler(inputCol='features', outputCol='features_scaled')\n",
    "ss_model = standard_scaler.fit(train_data_assembled)\n",
    "train_data_scaled = ss_model.transform(train_data_assembled)\n",
    "test_data_scaled = ss_model.transform(test_data_assembled)\n",
    "train_data_scaled.show(5)\n"
   ]
  },
  {
   "cell_type": "code",
   "execution_count": 13,
   "metadata": {},
   "outputs": [],
   "source": [
    "from pyspark.ml.regression import LinearRegression"
   ]
  },
  {
   "cell_type": "code",
   "execution_count": 14,
   "metadata": {},
   "outputs": [],
   "source": [
    "lr = LinearRegression(featuresCol='features_scaled', labelCol='Crew')"
   ]
  },
  {
   "cell_type": "code",
   "execution_count": 15,
   "metadata": {},
   "outputs": [],
   "source": [
    "lr_model = lr.fit(train_data_scaled)"
   ]
  },
  {
   "cell_type": "code",
   "execution_count": 16,
   "metadata": {},
   "outputs": [],
   "source": [
    "test_results = lr_model.evaluate(test_data_scaled)"
   ]
  },
  {
   "cell_type": "code",
   "execution_count": 17,
   "metadata": {},
   "outputs": [
    {
     "name": "stdout",
     "output_type": "stream",
     "text": [
      "RMSE: 1.6412823020220104\n",
      "R2: 0.8652294474083793\n"
     ]
    }
   ],
   "source": [
    "print(f'RMSE: {test_results.rootMeanSquaredError}')\n",
    "print(f'R2: {test_results.r2}')"
   ]
  },
  {
   "cell_type": "code",
   "execution_count": 18,
   "metadata": {},
   "outputs": [],
   "source": [
    "from pyspark.sql.functions import corr"
   ]
  },
  {
   "cell_type": "code",
   "execution_count": 19,
   "metadata": {},
   "outputs": [
    {
     "name": "stdout",
     "output_type": "stream",
     "text": [
      "+-------------------------------+-------------------+-------------------+----------------------+------------------+------------------+-----------------------------+\n",
      "|corr(Crew, Cruise_line_indexed)|    corr(Crew, Age)|corr(Crew, Tonnage)|corr(Crew, Passengers)|corr(Crew, Length)|corr(Crew, Cabins)|corr(Crew, Passenger_density)|\n",
      "+-------------------------------+-------------------+-------------------+----------------------+------------------+------------------+-----------------------------+\n",
      "|             -0.501334520224341|-0.4771494880978309| 0.9217705612264969|    0.9048274820821302|0.9151415410499385|0.9490561662637791|           -0.238571393722263|\n",
      "+-------------------------------+-------------------+-------------------+----------------------+------------------+------------------+-----------------------------+\n",
      "\n"
     ]
    }
   ],
   "source": [
    "train_data_indexed.select(\n",
    "    *[corr('Crew', col) for col in ['Cruise_line_indexed', 'Age','Tonnage','Passengers','Length','Cabins','Passenger_density']]\n",
    ").show()"
   ]
  },
  {
   "cell_type": "code",
   "execution_count": 20,
   "metadata": {},
   "outputs": [],
   "source": [
    "from pyspark.ml.pipeline import Pipeline\n",
    "from pyspark.ml.evaluation import RegressionEvaluator"
   ]
  },
  {
   "cell_type": "code",
   "execution_count": 21,
   "metadata": {},
   "outputs": [],
   "source": [
    "pp = Pipeline(stages=[\n",
    "    StringIndexer(inputCol='Cruise_line', outputCol='Cruise_line_indexed', stringOrderType='frequencyDesc'),\n",
    "    VectorAssembler(\n",
    "        inputCols=['Cruise_line_indexed', 'Age','Tonnage','Passengers','Length','Cabins','Passenger_density'],\n",
    "        outputCol='features'\n",
    "    ),\n",
    "    StandardScaler(inputCol='features', outputCol='features_scaled'),\n",
    "    LinearRegression(featuresCol='features_scaled', labelCol='Crew', predictionCol='Crew_prediction')\n",
    "])"
   ]
  },
  {
   "cell_type": "code",
   "execution_count": 22,
   "metadata": {},
   "outputs": [],
   "source": [
    "pp_model = pp.fit(train_data)"
   ]
  },
  {
   "cell_type": "code",
   "execution_count": 23,
   "metadata": {},
   "outputs": [],
   "source": [
    "test_result = pp_model.transform(test_data)"
   ]
  },
  {
   "cell_type": "code",
   "execution_count": 24,
   "metadata": {},
   "outputs": [
    {
     "name": "stdout",
     "output_type": "stream",
     "text": [
      "RMSE: 1.6412823020220104\n",
      "R2: 0.8652294474083793\n"
     ]
    }
   ],
   "source": [
    "evaluator = RegressionEvaluator(labelCol='Crew', predictionCol='Crew_prediction')\n",
    "rmse_score = evaluator.setMetricName('rmse').evaluate(test_result)\n",
    "r2_score = evaluator.setMetricName('r2').evaluate(test_result)\n",
    "\n",
    "print(f'RMSE: {rmse_score}')\n",
    "print(f'R2: {r2_score}')"
   ]
  },
  {
   "cell_type": "code",
   "execution_count": null,
   "metadata": {},
   "outputs": [],
   "source": []
  }
 ],
 "metadata": {
  "anaconda-cloud": {},
  "interpreter": {
   "hash": "4cd7ab41f5fca4b9b44701077e38c5ffd31fe66a6cab21e0214b68d958d0e462"
  },
  "kernelspec": {
   "display_name": "Python 3.8.9 64-bit",
   "name": "python3"
  },
  "language_info": {
   "codemirror_mode": {
    "name": "ipython",
    "version": 3
   },
   "file_extension": ".py",
   "mimetype": "text/x-python",
   "name": "python",
   "nbconvert_exporter": "python",
   "pygments_lexer": "ipython3",
   "version": "3.8.9"
  }
 },
 "nbformat": 4,
 "nbformat_minor": 0
}