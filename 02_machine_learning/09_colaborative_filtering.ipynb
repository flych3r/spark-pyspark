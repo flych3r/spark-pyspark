{
 "cells": [
  {
   "cell_type": "code",
   "execution_count": 1,
   "metadata": {},
   "outputs": [],
   "source": [
    "from pyspark.sql import SparkSession"
   ]
  },
  {
   "cell_type": "code",
   "execution_count": 2,
   "metadata": {},
   "outputs": [],
   "source": [
    "spark = SparkSession.builder.appName('recommender').getOrCreate()"
   ]
  },
  {
   "cell_type": "code",
   "execution_count": 3,
   "metadata": {},
   "outputs": [
    {
     "name": "stdout",
     "output_type": "stream",
     "text": [
      "root\n",
      " |-- movieId: integer (nullable = true)\n",
      " |-- rating: double (nullable = true)\n",
      " |-- userId: integer (nullable = true)\n",
      "\n",
      "+-------+------------------+------------------+------------------+\n",
      "|summary|           movieId|            rating|            userId|\n",
      "+-------+------------------+------------------+------------------+\n",
      "|  count|              1501|              1501|              1501|\n",
      "|   mean| 49.40572951365756|1.7741505662891406|14.383744170552964|\n",
      "| stddev|28.937034065088994| 1.187276166124803| 8.591040424293272|\n",
      "|    min|                 0|               1.0|                 0|\n",
      "|    max|                99|               5.0|                29|\n",
      "+-------+------------------+------------------+------------------+\n",
      "\n",
      "+-------+------+------+\n",
      "|movieId|rating|userId|\n",
      "+-------+------+------+\n",
      "|      2|   3.0|     0|\n",
      "|      3|   1.0|     0|\n",
      "|      5|   2.0|     0|\n",
      "|      9|   4.0|     0|\n",
      "|     11|   1.0|     0|\n",
      "|     12|   2.0|     0|\n",
      "|     15|   1.0|     0|\n",
      "|     17|   1.0|     0|\n",
      "|     19|   1.0|     0|\n",
      "|     21|   1.0|     0|\n",
      "+-------+------+------+\n",
      "only showing top 10 rows\n",
      "\n"
     ]
    }
   ],
   "source": [
    "movie_lens = spark.read.csv('../data/movielens_ratings.csv', inferSchema=True, header=True)\n",
    "movie_lens.printSchema()\n",
    "movie_lens.describe().show()\n",
    "movie_lens.show(10)"
   ]
  },
  {
   "cell_type": "code",
   "execution_count": 4,
   "metadata": {},
   "outputs": [],
   "source": [
    "train_data, test_data = movie_lens.randomSplit([.8, .2], seed=42)"
   ]
  },
  {
   "cell_type": "code",
   "execution_count": 5,
   "metadata": {},
   "outputs": [],
   "source": [
    "from pyspark.ml.recommendation import ALS"
   ]
  },
  {
   "cell_type": "code",
   "execution_count": 6,
   "metadata": {},
   "outputs": [],
   "source": [
    "als = ALS(\n",
    "    maxIter=5, regParam=0.01, userCol='userId',\n",
    "    itemCol='movieId', ratingCol='rating',\n",
    "    coldStartStrategy='drop'\n",
    ")"
   ]
  },
  {
   "cell_type": "code",
   "execution_count": 7,
   "metadata": {},
   "outputs": [],
   "source": [
    "als_model = als.fit(train_data)"
   ]
  },
  {
   "cell_type": "code",
   "execution_count": 8,
   "metadata": {},
   "outputs": [],
   "source": [
    "predictions = als_model.transform(test_data)"
   ]
  },
  {
   "cell_type": "code",
   "execution_count": 9,
   "metadata": {},
   "outputs": [
    {
     "name": "stdout",
     "output_type": "stream",
     "text": [
      "+-------+------+------+------------+\n",
      "|movieId|rating|userId|  prediction|\n",
      "+-------+------+------+------------+\n",
      "|     31|   1.0|    27|  0.78017753|\n",
      "|     31|   1.0|     5|  -0.1638715|\n",
      "|     31|   1.0|    19|   0.7568228|\n",
      "|     31|   3.0|    14|  0.90974927|\n",
      "|     31|   1.0|     0|   1.2369385|\n",
      "|     85|   3.0|     6|   2.5026789|\n",
      "|     85|   4.0|     7|   2.4807098|\n",
      "|     53|   1.0|    12|   4.3190637|\n",
      "|     78|   1.0|    28|  0.67938143|\n",
      "|     34|   1.0|    16|    1.684705|\n",
      "|     34|   1.0|    15|    1.258081|\n",
      "|     34|   1.0|     0|   1.5491468|\n",
      "|     28|   3.0|     1|   1.0931132|\n",
      "|     28|   1.0|     5|-0.102508605|\n",
      "|     28|   1.0|     2|   3.0077848|\n",
      "|     76|   1.0|     1|   1.4828697|\n",
      "|     76|   1.0|    19|   3.2280333|\n",
      "|     76|   3.0|     7|   0.6411397|\n",
      "|     76|   1.0|    25|   1.6725394|\n",
      "|     76|   1.0|     2|   2.8872871|\n",
      "+-------+------+------+------------+\n",
      "only showing top 20 rows\n",
      "\n"
     ]
    }
   ],
   "source": [
    "predictions.show()"
   ]
  },
  {
   "cell_type": "code",
   "execution_count": 10,
   "metadata": {},
   "outputs": [],
   "source": [
    "from pyspark.ml.evaluation import RegressionEvaluator"
   ]
  },
  {
   "cell_type": "code",
   "execution_count": 11,
   "metadata": {},
   "outputs": [],
   "source": [
    "evaluator = RegressionEvaluator(\n",
    "    metricName='rmse', labelCol='rating', predictionCol='prediction'\n",
    ")"
   ]
  },
  {
   "cell_type": "code",
   "execution_count": 12,
   "metadata": {},
   "outputs": [
    {
     "name": "stdout",
     "output_type": "stream",
     "text": [
      "Root-mean-square error = 1.9788846361649453\n"
     ]
    }
   ],
   "source": [
    "rmse = evaluator.evaluate(predictions)\n",
    "print(f'Root-mean-square error = {rmse}')"
   ]
  },
  {
   "cell_type": "code",
   "execution_count": 13,
   "metadata": {},
   "outputs": [],
   "source": [
    "# Generate top 5 movie recommendations for each user\n",
    "user_recs = als_model.recommendForAllUsers(5)\n",
    "# Generate top 5 user recommendations for each movie\n",
    "movie_recs = als_model.recommendForAllItems(5)"
   ]
  },
  {
   "cell_type": "code",
   "execution_count": 14,
   "metadata": {},
   "outputs": [
    {
     "name": "stdout",
     "output_type": "stream",
     "text": [
      "+------+------------------------------------------------------------------------------------+\n",
      "|userId|recommendations                                                                     |\n",
      "+------+------------------------------------------------------------------------------------+\n",
      "|28    |[{64, 6.7887263}, {28, 5.6397724}, {17, 5.4291916}, {35, 5.180738}, {12, 5.1007643}]|\n",
      "|26    |[{75, 5.350701}, {94, 5.234352}, {22, 5.112195}, {7, 5.0050864}, {77, 4.9674935}]   |\n",
      "|27    |[{7, 4.195648}, {76, 3.9279258}, {18, 3.6610832}, {36, 3.2760515}, {32, 3.2433596}] |\n",
      "|12    |[{76, 5.6571283}, {29, 5.3348837}, {17, 5.1697564}, {64, 4.791089}, {28, 4.734739}] |\n",
      "|22    |[{39, 6.8509345}, {76, 5.9521003}, {53, 5.894269}, {28, 5.478248}, {83, 5.2109528}] |\n",
      "+------+------------------------------------------------------------------------------------+\n",
      "only showing top 5 rows\n",
      "\n",
      "+-------+-----------------------------------------------------------------------------------+\n",
      "|movieId|recommendations                                                                    |\n",
      "+-------+-----------------------------------------------------------------------------------+\n",
      "|31     |[{12, 4.078867}, {28, 3.161229}, {8, 3.0751467}, {7, 2.6423557}, {6, 2.5482}]      |\n",
      "|85     |[{24, 5.443502}, {0, 5.398921}, {8, 4.849546}, {16, 4.659424}, {21, 3.101562}]     |\n",
      "|65     |[{23, 4.1676874}, {29, 3.2177188}, {17, 2.9874887}, {5, 2.7983003}, {27, 2.738468}]|\n",
      "|53     |[{16, 7.198437}, {22, 5.894269}, {21, 5.083828}, {8, 4.775566}, {12, 4.3190637}]   |\n",
      "|78     |[{16, 1.5410447}, {0, 1.136835}, {23, 1.0907705}, {22, 1.066809}, {2, 1.0571314}]  |\n",
      "+-------+-----------------------------------------------------------------------------------+\n",
      "only showing top 5 rows\n",
      "\n"
     ]
    }
   ],
   "source": [
    "user_recs.show(5, truncate=False)\n",
    "movie_recs.show(5, truncate=False)"
   ]
  },
  {
   "cell_type": "code",
   "execution_count": 15,
   "metadata": {},
   "outputs": [],
   "source": [
    "# Generate top 5 movie recommendations for a specified set of users\n",
    "users = test_data.select(als.getUserCol()).distinct().limit(3)\n",
    "user_subset_recs = als_model.recommendForUserSubset(users, 5)\n",
    "# Generate top 5 user recommendations for a specified set of movies\n",
    "movies = test_data.select(als.getItemCol()).distinct().limit(3)\n",
    "movie_subset_recs = als_model.recommendForItemSubset(movies, 5)"
   ]
  },
  {
   "cell_type": "code",
   "execution_count": 16,
   "metadata": {},
   "outputs": [
    {
     "name": "stdout",
     "output_type": "stream",
     "text": [
      "+------+------------------------------------------------------------------------------------+\n",
      "|userId|recommendations                                                                     |\n",
      "+------+------------------------------------------------------------------------------------+\n",
      "|28    |[{64, 6.7887263}, {28, 5.6397724}, {17, 5.4291916}, {35, 5.180738}, {12, 5.1007643}]|\n",
      "|26    |[{75, 5.350701}, {94, 5.234352}, {22, 5.112195}, {7, 5.0050864}, {77, 4.9674935}]   |\n",
      "|27    |[{7, 4.195648}, {76, 3.9279258}, {18, 3.6610832}, {36, 3.2760515}, {32, 3.2433596}] |\n",
      "+------+------------------------------------------------------------------------------------+\n",
      "\n",
      "+-------+--------------------------------------------------------------------------------+\n",
      "|movieId|recommendations                                                                 |\n",
      "+-------+--------------------------------------------------------------------------------+\n",
      "|31     |[{12, 4.078867}, {28, 3.161229}, {8, 3.0751467}, {7, 2.6423557}, {6, 2.5482}]   |\n",
      "|85     |[{24, 5.443502}, {0, 5.398921}, {8, 4.849546}, {16, 4.659424}, {21, 3.101562}]  |\n",
      "|53     |[{16, 7.198437}, {22, 5.894269}, {21, 5.083828}, {8, 4.775566}, {12, 4.3190637}]|\n",
      "+-------+--------------------------------------------------------------------------------+\n",
      "\n"
     ]
    }
   ],
   "source": [
    "user_subset_recs.show(5, truncate=False)\n",
    "movie_subset_recs.show(5, truncate=False)"
   ]
  }
 ],
 "metadata": {
  "interpreter": {
   "hash": "4cd7ab41f5fca4b9b44701077e38c5ffd31fe66a6cab21e0214b68d958d0e462"
  },
  "kernelspec": {
   "display_name": "Python 3.8.9 64-bit",
   "name": "python3"
  },
  "language_info": {
   "codemirror_mode": {
    "name": "ipython",
    "version": 3
   },
   "file_extension": ".py",
   "mimetype": "text/x-python",
   "name": "python",
   "nbconvert_exporter": "python",
   "pygments_lexer": "ipython3",
   "version": "3.8.9"
  },
  "orig_nbformat": 4
 },
 "nbformat": 4,
 "nbformat_minor": 2
}